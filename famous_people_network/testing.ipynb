{
 "cells": [
  {
   "cell_type": "code",
   "execution_count": 1,
   "metadata": {},
   "outputs": [],
   "source": [
    "from people_network import PeopleNetwork"
   ]
  },
  {
   "cell_type": "code",
   "execution_count": 12,
   "metadata": {},
   "outputs": [],
   "source": [
    "a = PeopleNetwork()"
   ]
  },
  {
   "cell_type": "code",
   "execution_count": 15,
   "metadata": {},
   "outputs": [],
   "source": [
    "a.add_person(\"Aristotle\", 1)"
   ]
  },
  {
   "cell_type": "code",
   "execution_count": 16,
   "metadata": {},
   "outputs": [
    {
     "data": {
      "text/plain": [
       "defaultdict(set,\n",
       "            {'Aristotle': {'Alexander the Great',\n",
       "              'Dante Alighieri',\n",
       "              'Lysippos',\n",
       "              'Philip II of Macedon',\n",
       "              'Plato',\n",
       "              'Theophrastus'},\n",
       "             'Lysippos': {'Aristotle', 'Pliny the Elder'},\n",
       "             'Alexander the Great': {'Alexander IV of Macedon',\n",
       "              'Aristotle',\n",
       "              'Darius III',\n",
       "              'Olympias',\n",
       "              'Philip II of Macedon',\n",
       "              'Philip III of Macedon',\n",
       "              'Porus'},\n",
       "             'Theophrastus': {'Aristotle', 'Strato of Lampsacus'},\n",
       "             'Plato': {'Al-Farabi',\n",
       "              'Alfred North Whitehead',\n",
       "              'Aristotle',\n",
       "              'Augustine of Hippo',\n",
       "              'Pythagoras',\n",
       "              'Socrates'},\n",
       "             'Philip II of Macedon': {'Alexander the Great',\n",
       "              'Amyntas III of Macedon',\n",
       "              'Amyntas IV',\n",
       "              'Aristotle',\n",
       "              'Audata',\n",
       "              'Cleopatra of Macedon',\n",
       "              'Cynane',\n",
       "              'Olympias',\n",
       "              'Philip III of Macedon'},\n",
       "             'Dante Alighieri': {'Alfred, Lord Tennyson',\n",
       "              'Aristotle',\n",
       "              'Gemma Donati',\n",
       "              'Geoffrey Chaucer',\n",
       "              'Giovanni Boccaccio',\n",
       "              'John Milton',\n",
       "              'Petrarch',\n",
       "              'Pliny the Elder',\n",
       "              'Robert Hollander',\n",
       "              'Sandro Botticelli'},\n",
       "             'Pliny the Elder': {'Dante Alighieri', 'Lysippos'},\n",
       "             'Alexander IV of Macedon': {'Alexander the Great'},\n",
       "             'Philip III of Macedon': {'Alexander the Great',\n",
       "              'Philip II of Macedon'},\n",
       "             'Darius III': {'Alexander the Great'},\n",
       "             'Olympias': {'Alexander the Great', 'Philip II of Macedon'},\n",
       "             'Porus': {'Alexander the Great'},\n",
       "             'Strato of Lampsacus': {'Theophrastus'},\n",
       "             'Pythagoras': {'Plato'},\n",
       "             'Socrates': {'Plato'},\n",
       "             'Augustine of Hippo': {'Plato'},\n",
       "             'Al-Farabi': {'Plato'},\n",
       "             'Alfred North Whitehead': {'Plato'},\n",
       "             'Amyntas IV': {'Philip II of Macedon'},\n",
       "             'Audata': {'Philip II of Macedon'},\n",
       "             'Cynane': {'Philip II of Macedon'},\n",
       "             'Cleopatra of Macedon': {'Philip II of Macedon'},\n",
       "             'Amyntas III of Macedon': {'Philip II of Macedon'},\n",
       "             'Sandro Botticelli': {'Dante Alighieri'},\n",
       "             'Robert Hollander': {'Dante Alighieri'},\n",
       "             'Giovanni Boccaccio': {'Dante Alighieri'},\n",
       "             'Gemma Donati': {'Dante Alighieri'},\n",
       "             'Petrarch': {'Dante Alighieri'},\n",
       "             'Geoffrey Chaucer': {'Dante Alighieri'},\n",
       "             'John Milton': {'Dante Alighieri'},\n",
       "             'Alfred, Lord Tennyson': {'Dante Alighieri'}})"
      ]
     },
     "execution_count": 16,
     "metadata": {},
     "output_type": "execute_result"
    }
   ],
   "source": [
    "a.adjacency_list"
   ]
  },
  {
   "cell_type": "code",
   "execution_count": 5,
   "metadata": {},
   "outputs": [
    {
     "data": {
      "text/plain": [
       "112"
      ]
     },
     "execution_count": 5,
     "metadata": {},
     "output_type": "execute_result"
    }
   ],
   "source": [
    "len(a.visited_pages)"
   ]
  },
  {
   "cell_type": "code",
   "execution_count": null,
   "metadata": {},
   "outputs": [],
   "source": []
  }
 ],
 "metadata": {
  "kernelspec": {
   "display_name": ".venv",
   "language": "python",
   "name": "python3"
  },
  "language_info": {
   "codemirror_mode": {
    "name": "ipython",
    "version": 3
   },
   "file_extension": ".py",
   "mimetype": "text/x-python",
   "name": "python",
   "nbconvert_exporter": "python",
   "pygments_lexer": "ipython3",
   "version": "3.12.6"
  }
 },
 "nbformat": 4,
 "nbformat_minor": 2
}
